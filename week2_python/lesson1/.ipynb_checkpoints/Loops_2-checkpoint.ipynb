{
 "cells": [
  {
   "cell_type": "code",
   "execution_count": 3,
   "id": "3a3da472-efbc-4a3f-b8b1-558cc097fa57",
   "metadata": {},
   "outputs": [
    {
     "name": "stdout",
     "output_type": "stream",
     "text": [
      "0\n",
      "1\n",
      "2\n",
      "3\n",
      "4\n",
      "6\n",
      "7\n",
      "8\n",
      "9\n"
     ]
    }
   ],
   "source": [
    "desired_number = 5\n",
    "for x in range(10):\n",
    "    if (x == desired_number):\n",
    "        continue\n",
    "    print(x)"
   ]
  },
  {
   "cell_type": "code",
   "execution_count": 4,
   "id": "849df36c-778d-4505-8315-cdd3640d5b3a",
   "metadata": {},
   "outputs": [
    {
     "name": "stdout",
     "output_type": "stream",
     "text": [
      "0\n",
      "1\n",
      "2\n",
      "3\n",
      "4\n"
     ]
    }
   ],
   "source": [
    "desired_number1 = 5\n",
    "for x in range(10):\n",
    "    if (x == desired_number1):\n",
    "        break\n",
    "    print(x)"
   ]
  },
  {
   "cell_type": "code",
   "execution_count": 5,
   "id": "861613b3-dc8b-424c-9878-dc6bf186a747",
   "metadata": {},
   "outputs": [
    {
     "name": "stdout",
     "output_type": "stream",
     "text": [
      "H\n",
      "e\n",
      "l\n",
      "l\n",
      "o\n",
      " \n",
      "W\n",
      "o\n",
      "r\n",
      "l\n",
      "d\n"
     ]
    }
   ],
   "source": [
    "phrase = \"Hello World\"\n",
    "for x in phrase:\n",
    "    print(x)"
   ]
  },
  {
   "cell_type": "code",
   "execution_count": 6,
   "id": "992500d8-c4e9-45d8-86b2-653f0e161eae",
   "metadata": {},
   "outputs": [
    {
     "name": "stdout",
     "output_type": "stream",
     "text": [
      "1\n",
      "2\n",
      "3\n",
      "4\n",
      "5\n"
     ]
    }
   ],
   "source": [
    "i = 1\n",
    "\n",
    "while i < 6:\n",
    "    print(i)\n",
    "    \n",
    "    i+=1"
   ]
  },
  {
   "cell_type": "code",
   "execution_count": 7,
   "id": "5297553e-3c55-4031-abc0-7bea6208ff5a",
   "metadata": {},
   "outputs": [
    {
     "name": "stdout",
     "output_type": "stream",
     "text": [
      "Give me a P!\n",
      "P!\n",
      "Give me a y!\n",
      "y!\n",
      "Give me a t!\n",
      "t!\n",
      "Give me a h!\n",
      "h!\n",
      "Give me a o!\n",
      "o!\n",
      "Give me a n!\n",
      "n!\n"
     ]
    }
   ],
   "source": [
    "cheer = \"Python\"\n",
    "\n",
    "for x in cheer:\n",
    "    print(\"Give me a \" + x + \"!\")\n",
    "    print(x + \"!\")"
   ]
  },
  {
   "cell_type": "code",
   "execution_count": 8,
   "id": "c271bdb5-232c-4988-808a-f6aa6e11de64",
   "metadata": {},
   "outputs": [
    {
     "name": "stdout",
     "output_type": "stream",
     "text": [
      "Give me a P!\n",
      "P!\n",
      "Give me a y!\n",
      "y!\n",
      "Give me a t!\n",
      "t!\n",
      "Give me a h!\n",
      "h!\n",
      "Give me a o!\n",
      "o!\n",
      "Give me a n!\n",
      "n!\n",
      "\n",
      "What does that spell?!\n",
      "Python!\n",
      "Woohoo! Go Python!\n",
      "*\\O/**\\O/**\\O/*\n",
      "ヘ( ^o^)ノ＼(^_^ )\n"
     ]
    }
   ],
   "source": [
    "# Create a variable named cheer and give it a word to cheer (i.e. Python or FinTech)\n",
    "\n",
    "cheer = \"Python\"\n",
    "\n",
    "# Below strings can be used to add fun\n",
    "cheer_symbol = \"*\\O/*\"\n",
    "cheer_symbol_2 = \"ヘ( ^o^)ノ＼(^_^ )\"\n",
    "\n",
    "# Loop through string and print each letter with a cheer\n",
    "\n",
    "for x in cheer:\n",
    "    print(\"Give me a \" + x + \"!\")\n",
    "    print(x + \"!\")\n",
    "\n",
    "# Print excitement to screen\n",
    "print(\"\\nWhat does that spell?!\")\n",
    "print(cheer + \"!\\nWoohoo! Go \" + cheer + \"!\")\n",
    "print(cheer_symbol * 3)\n",
    "print(cheer_symbol_2)"
   ]
  },
  {
   "cell_type": "code",
   "execution_count": 11,
   "id": "7da700c5-150c-42c6-82e9-6a1112954896",
   "metadata": {},
   "outputs": [
    {
     "name": "stdout",
     "output_type": "stream",
     "text": [
      "Give me a P!\n",
      "P!\n",
      "Give me a y!\n",
      "y!\n",
      "Give me a t!\n",
      "t!\n",
      "Give me a h!\n",
      "h!\n",
      "Give me a o!\n",
      "o!\n",
      "Give me a n!\n",
      "n!\n",
      "\n",
      "What does that spell?!\n",
      "Python!\n",
      "Woohoo! Go Python!\n",
      "*\\O/**\\O/**\\O/*\n",
      "ヘ( ^o^)ノ＼(^_^ )\n",
      "\n",
      "Give me a T!\n",
      "T!\n",
      "Give me a r!\n",
      "r!\n",
      "Give me a i!\n",
      "i!\n",
      "Give me a l!\n",
      "l!\n",
      "Give me a o!\n",
      "o!\n",
      "Give me a g!\n",
      "g!\n",
      "Give me a y!\n",
      "y!\n",
      "\n",
      "What does that spell?!\n",
      "Trilogy!\n",
      "Woohoo! Go Trilogy!\n",
      "*\\O/**\\O/**\\O/*\n",
      "ヘ( ^o^)ノ＼(^_^ )\n",
      "\n",
      "Give me a F!\n",
      "F!\n",
      "Give me a i!\n",
      "i!\n",
      "Give me a n!\n",
      "n!\n",
      "Give me a t!\n",
      "t!\n",
      "Give me a e!\n",
      "e!\n",
      "Give me a c!\n",
      "c!\n",
      "Give me a h!\n",
      "h!\n",
      "\n",
      "What does that spell?!\n",
      "Fintech!\n",
      "Woohoo! Go Fintech!\n",
      "*\\O/**\\O/**\\O/*\n",
      "ヘ( ^o^)ノ＼(^_^ )\n",
      "\n",
      "Give me a M!\n",
      "M!\n",
      "Give me a o!\n",
      "o!\n",
      "Give me a n!\n",
      "n!\n",
      "Give me a e!\n",
      "e!\n",
      "Give me a y!\n",
      "y!\n",
      "\n",
      "What does that spell?!\n",
      "Money!\n",
      "Woohoo! Go Money!\n",
      "*\\O/**\\O/**\\O/*\n",
      "ヘ( ^o^)ノ＼(^_^ )\n",
      "\n"
     ]
    }
   ],
   "source": [
    "# loop over a list\n",
    "cheer = [\"Python\", \"Trilogy\", \"Fintech\", \"Money\"]\n",
    "\n",
    "# can add strings\n",
    "cheer_symbol = \"*\\O/*\"\n",
    "cheer_symbol_2 = \"ヘ( ^o^)ノ＼(^_^ )\"\n",
    "\n",
    "# loop through string\n",
    "for i in range(len(cheer)):\n",
    "    for x in cheer[i]:\n",
    "        # print each letter with a cheer\n",
    "        print (\"Give me a \" + x + \"!\")\n",
    "        print (x + \"!\")\n",
    "    \n",
    "    # Print excitement to the screen\n",
    "    print (\"\\nWhat does that spell?!\")\n",
    "    print (cheer[i] + \"!\\nWoohoo! Go \" + cheer[i] + \"!\")\n",
    "    print (cheer_symbol * 3)\n",
    "    print (cheer_symbol_2)\n",
    "    print ()"
   ]
  },
  {
   "cell_type": "code",
   "execution_count": null,
   "id": "2ae855a2-0ad0-4e6a-a2d5-afaa6eef645b",
   "metadata": {},
   "outputs": [],
   "source": []
  }
 ],
 "metadata": {
  "kernelspec": {
   "display_name": "Python 3 (ipykernel)",
   "language": "python",
   "name": "python3"
  },
  "language_info": {
   "codemirror_mode": {
    "name": "ipython",
    "version": 3
   },
   "file_extension": ".py",
   "mimetype": "text/x-python",
   "name": "python",
   "nbconvert_exporter": "python",
   "pygments_lexer": "ipython3",
   "version": "3.9.12"
  }
 },
 "nbformat": 4,
 "nbformat_minor": 5
}

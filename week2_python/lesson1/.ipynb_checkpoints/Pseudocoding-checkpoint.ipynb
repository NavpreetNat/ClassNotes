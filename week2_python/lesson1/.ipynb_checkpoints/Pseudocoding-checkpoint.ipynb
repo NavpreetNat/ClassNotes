{
 "cells": [
  {
   "cell_type": "code",
   "execution_count": 1,
   "id": "2e9014c7-2f78-4981-9eec-9876a1852d95",
   "metadata": {},
   "outputs": [],
   "source": [
    "\"\"\"\n",
    "Conditionally Yours\n",
    "Pseudocode:\n",
    "1. Identify old price of Netflix stock as variable \"old_price\"\n",
    "2. Identify new price of Netflix stock as variable \"new_price\"\n",
    "3. Compute increase or decrease in Netflix stock by \"increase\" = \"new_price\" - \"old_price\"\n",
    "4. Compute percent increase in Netflix stock by \"percent\" = \"increase\"/\"old_price\"*100\n",
    "5. Determine whether the stock should be bought or sold\n",
    "    IF \"percent\" is greater than 20%\n",
    "        THEN print(\"Sell!\")\n",
    "    IF ELSE \"percent\" is greater than or equal to -20% but less than or equal to 20%\n",
    "        THEN print(\"Do nothing\")\n",
    "    IF ELSE \"percent\" is less than -20%\n",
    "        THEN print(\"Buy!\")\n",
    "\"\"\"\n",
    "\n",
    "old_price = 360.35\n",
    "\n",
    "new_price = 293.33\n",
    "\n",
    "increase = new_price - old_price"
   ]
  },
  {
   "cell_type": "code",
   "execution_count": null,
   "id": "bb1ab404-579e-4f44-a307-2ed2e67c38a7",
   "metadata": {},
   "outputs": [],
   "source": []
  },
  {
   "cell_type": "code",
   "execution_count": 2,
   "id": "40a16d8c-954c-4a63-ab8a-c3ab84ecf77c",
   "metadata": {},
   "outputs": [
    {
     "ename": "SyntaxError",
     "evalue": "invalid syntax (3173112176.py, line 25)",
     "output_type": "error",
     "traceback": [
      "\u001b[1;36m  Input \u001b[1;32mIn [2]\u001b[1;36m\u001b[0m\n\u001b[1;33m    if percent > 20\u001b[0m\n\u001b[1;37m                   ^\u001b[0m\n\u001b[1;31mSyntaxError\u001b[0m\u001b[1;31m:\u001b[0m invalid syntax\n"
     ]
    }
   ],
   "source": [
    "\"\"\"\n",
    "Conditionally Yours\n",
    "Pseudocode:\n",
    "1. Identify old price of Netflix stock as variable \"old_price\"\n",
    "2. Identify new price of Netflix stock as variable \"new_price\"\n",
    "3. Compute increase or decrease in Netflix stock by \"increase\" = \"new_price\" - \"old_price\"\n",
    "4. Compute percent increase in Netflix stock by \"percent\" = \"increase\"/\"old_price\"*100\n",
    "5. Determine whether the stock should be bought or sold\n",
    "    IF \"percent\" is greater than 20%\n",
    "        THEN print(\"Sell!\")\n",
    "    IF ELSE \"percent\" is greater than or equal to -20% but less than or equal to 20%\n",
    "        THEN print(\"Do nothing\")\n",
    "    IF ELSE \"percent\" is less than -20%\n",
    "        THEN print(\"Buy!\")\n",
    "\"\"\"\n",
    "\n",
    "old_price = 360.35\n",
    "\n",
    "new_price = 293.33\n",
    "\n",
    "increase = new_price - old_price\n",
    "\n",
    "percent = increase/old_price*100\n",
    "\n",
    "if percent > 20\n",
    "    print (\"Sell!\")\n",
    "    \n",
    "elif percent >= -20 and percent <= 20\n",
    "    print (\"Do Nothing\")\n",
    "    \n",
    "elif percent < -20\n",
    "    print (\"Buy!\")"
   ]
  },
  {
   "cell_type": "code",
   "execution_count": 6,
   "id": "8131369c-9443-4b9e-9609-7cf586be05d4",
   "metadata": {},
   "outputs": [
    {
     "name": "stdout",
     "output_type": "stream",
     "text": [
      "Buy!\n"
     ]
    }
   ],
   "source": [
    "\"\"\"\n",
    "Conditionally Yours\n",
    "Pseudocode:\n",
    "1. Identify old price of Netflix stock as variable \"old_price\"\n",
    "2. Identify new price of Netflix stock as variable \"new_price\"\n",
    "3. Compute increase or decrease in Netflix stock by \"increase\" = \"new_price\" - \"old_price\"\n",
    "4. Compute percent increase in Netflix stock by \"percent\" = \"increase\"/\"old_price\"*100\n",
    "5. Determine whether the stock should be bought or sold\n",
    "    IF \"percent\" is greater than 20%\n",
    "        THEN print(\"Sell!\")\n",
    "    IF ELSE \"percent\" is greater than or equal to -20% but less than or equal to 20%\n",
    "        THEN print(\"Do nothing\")\n",
    "    IF ELSE \"percent\" is less than -20%\n",
    "        THEN print(\"Buy!\")\n",
    "\"\"\"\n",
    "\n",
    "old_price = 1000\n",
    "\n",
    "new_price = 799\n",
    "\n",
    "increase = new_price - old_price\n",
    "\n",
    "percent = increase/old_price*100\n",
    "\n",
    "if percent > 20:\n",
    "    print (\"Sell!\")\n",
    "    \n",
    "elif percent >= -20 and percent <= 20:\n",
    "    print (\"Do Nothing\")\n",
    "    \n",
    "elif percent < -20:\n",
    "    print (\"Buy!\")"
   ]
  },
  {
   "cell_type": "code",
   "execution_count": null,
   "id": "054b1225-4558-479e-9af0-c13116c991cd",
   "metadata": {},
   "outputs": [],
   "source": []
  }
 ],
 "metadata": {
  "kernelspec": {
   "display_name": "Python 3 (ipykernel)",
   "language": "python",
   "name": "python3"
  },
  "language_info": {
   "codemirror_mode": {
    "name": "ipython",
    "version": 3
   },
   "file_extension": ".py",
   "mimetype": "text/x-python",
   "name": "python",
   "nbconvert_exporter": "python",
   "pygments_lexer": "ipython3",
   "version": "3.9.12"
  }
 },
 "nbformat": 4,
 "nbformat_minor": 5
}

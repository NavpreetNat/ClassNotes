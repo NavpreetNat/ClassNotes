{
 "cells": [
  {
   "cell_type": "code",
   "execution_count": 1,
   "id": "5666ab0e-f9ee-42db-96bd-012e59857290",
   "metadata": {},
   "outputs": [
    {
     "name": "stdout",
     "output_type": "stream",
     "text": [
      "Apple's original stock price was $198.87\n",
      "Apple's current stock price is $254.32\n",
      "Apple's stock price increased by $55.45\n",
      "or 27.88% as a percentage.\n"
     ]
    }
   ],
   "source": [
    "original_price = 198.87\n",
    "\n",
    "current_price = 254.32\n",
    "\n",
    "increase_price = current_price - original_price\n",
    "\n",
    "percent_increase = increase_price/original_price * 100\n",
    "\n",
    "print (f\"Apple's original stock price was ${original_price}\")\n",
    "\n",
    "print (f\"Apple's current stock price is ${current_price}\")\n",
    "\n",
    "print (f\"Apple's stock price increased by\", \"${:.2f}\".format(increase_price))\n",
    "\n",
    "print (\"or\", \"{:.2f}%\".format(percent_increase), \"as a percentage.\")"
   ]
  }
 ],
 "metadata": {
  "kernelspec": {
   "display_name": "Python 3 (ipykernel)",
   "language": "python",
   "name": "python3"
  },
  "language_info": {
   "codemirror_mode": {
    "name": "ipython",
    "version": 3
   },
   "file_extension": ".py",
   "mimetype": "text/x-python",
   "name": "python",
   "nbconvert_exporter": "python",
   "pygments_lexer": "ipython3",
   "version": "3.9.12"
  }
 },
 "nbformat": 4,
 "nbformat_minor": 5
}

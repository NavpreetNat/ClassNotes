{
 "cells": [
  {
   "cell_type": "code",
   "execution_count": 2,
   "id": "7fcef6c7-c9dd-47dd-9352-78655caacebd",
   "metadata": {},
   "outputs": [
    {
     "name": "stdout",
     "output_type": "stream",
     "text": [
      "Current Working Directory: C:\\Users\\navpr\n",
      "customer_total: 4945\n",
      "day_count: 100\n",
      "-----------------------\n",
      "daily_average: 49.45\n"
     ]
    }
   ],
   "source": [
    "# -*- coding: utf-8 -*-\n",
    "\"\"\"Student Do: E-Commerce Traffic.\n",
    "\n",
    "This script will parse through a text file and sum the total\n",
    "number of customers and the count of days in the text file to\n",
    "calculate the daily average of customer traffic for an e-commerce\n",
    "business.\n",
    "\"\"\"\n",
    "\n",
    "# From the pathlib library, import the main class Path\n",
    "from pathlib import Path\n",
    "\n",
    "# Check the current directory where the Python program is executing from\n",
    "print(f\"Current Working Directory: {Path.cwd()}\")\n",
    "\n",
    "# Set the path using Pathlib\n",
    "file = Path(\"C:/Users/navpr/customer_traffic.txt\")\n",
    "\n",
    "# Initialize variables\n",
    "customer_total = 0\n",
    "day_count = 0\n",
    "\n",
    "# Open the file in \"read\" mode ('r') and\n",
    "# store the contents in the variable 'file'\n",
    "with open(file, 'r') as file:\n",
    "    # Parse the file line by line\n",
    "    for line in file:\n",
    "\n",
    "        # Convert the number in the text file from string to int\n",
    "        number = int(line)\n",
    "\n",
    "        # Sum the total and count of the numbers in the text file\n",
    "        customer_total += number\n",
    "        day_count += 1\n",
    "\n",
    "# Print out customer_total and day_count\n",
    "print(f\"customer_total: {customer_total}\")\n",
    "print(f\"day_count: {day_count}\")\n",
    "print(\"-----------------------\")\n",
    "\n",
    "# Calculate the average\n",
    "daily_average = customer_total / day_count\n",
    "print(f\"daily_average: {daily_average}\")\n",
    "\n",
    "# Set output file name\n",
    "output_path = 'output.txt'\n",
    "\n",
    "# Open the output path as a file object\n",
    "with open(output_path, 'w') as file:\n",
    "    # Write daily_average to the output file, convert to string\n",
    "    file.write(f\"There were {customer_total} customers over the course of {day_count} days.\\n\")\n",
    "    file.write(f\"The average daily customer traffic is {daily_average} customers per day.\")\n"
   ]
  },
  {
   "cell_type": "code",
   "execution_count": null,
   "id": "e1f5c37f-6bdd-448b-8f10-d6f90f5a1599",
   "metadata": {},
   "outputs": [],
   "source": []
  }
 ],
 "metadata": {
  "kernelspec": {
   "display_name": "Python 3 (ipykernel)",
   "language": "python",
   "name": "python3"
  },
  "language_info": {
   "codemirror_mode": {
    "name": "ipython",
    "version": 3
   },
   "file_extension": ".py",
   "mimetype": "text/x-python",
   "name": "python",
   "nbconvert_exporter": "python",
   "pygments_lexer": "ipython3",
   "version": "3.9.12"
  }
 },
 "nbformat": 4,
 "nbformat_minor": 5
}

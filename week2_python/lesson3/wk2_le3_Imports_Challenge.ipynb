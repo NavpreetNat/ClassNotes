{
 "cells": [
  {
   "cell_type": "code",
   "execution_count": 1,
   "id": "06c52d4d-3218-445a-8de0-e4c1566b1557",
   "metadata": {},
   "outputs": [
    {
     "name": "stdout",
     "output_type": "stream",
     "text": [
      "conservative 267.94617853971704\n",
      "neutral 401.91926780957544\n",
      "aggressive 285.8923570794341\n",
      "---------------------------------------------------------\n",
      "The project scenario with the max NPV value is 'neutral' with a NPV of 401.91926780957544\n"
     ]
    }
   ],
   "source": [
    "# -*- coding: utf-8 -*-\n",
    "\"\"\"Student Activity: Financial Analysis using NPV.\n",
    "\n",
    "This script will choose the optimal project scenario to\n",
    "undertake based on max NPV values.\n",
    "\"\"\"\n",
    "\n",
    "# Import the NumPy library\n",
    "import numpy_financial as npf\n",
    "\n",
    "# Discount Rate\n",
    "discount_rate = .1\n",
    "\n",
    "# Initial Investment, Cash Flow 1, Cash Flow 2, Cash Flow 3, Cash Flow 4\n",
    "cash_flows_conservative = [-1000, 400, 400, 400, 400]\n",
    "cash_flows_neutral = [-1500, 600, 600, 600, 600]\n",
    "cash_flows_aggressive = [-2250, 800, 800, 800, 800]\n",
    "\n",
    "# Initialize dictionary to hold NPV return values\n",
    "npv_dict = {}\n",
    "\n",
    "# Calculate the NPV for each scenario\n",
    "npv_dict['conservative'] = npf.npv(discount_rate, cash_flows_conservative)\n",
    "npv_dict['neutral'] = npf.npv(discount_rate, cash_flows_neutral)\n",
    "npv_dict['aggressive'] = npf.npv(discount_rate, cash_flows_aggressive)\n",
    "\n",
    "# Initialize variables\n",
    "max_value = 0\n",
    "max_key = 0\n",
    "\n",
    "# Iterate over the dictionary and find the max key-value pair\n",
    "for key, value in npv_dict.items():\n",
    "    print(f\"{key} {value}\")\n",
    "\n",
    "    if max_value == 0:\n",
    "        max_value = value\n",
    "        max_key = key\n",
    "    elif value > max_value:\n",
    "        max_value = value\n",
    "        max_key = key\n",
    "\n",
    "# Print out the optimal project scenario with the highest NPV value\n",
    "print(\"---------------------------------------------------------\")\n",
    "print(f\"The project scenario with the max NPV value is '{max_key}' with a NPV of {max_value}\")\n"
   ]
  },
  {
   "cell_type": "code",
   "execution_count": 2,
   "id": "f15e692e-5341-42fd-a86b-76877f6a738d",
   "metadata": {},
   "outputs": [
    {
     "name": "stdout",
     "output_type": "stream",
     "text": [
      "Collecting numpy-financial\n",
      "  Downloading numpy_financial-1.0.0-py3-none-any.whl (14 kB)\n",
      "Requirement already satisfied: numpy>=1.15 in c:\\users\\navpr\\anaconda3\\envs\\dev\\lib\\site-packages (from numpy-financial) (1.21.5)\n",
      "Installing collected packages: numpy-financial\n",
      "Successfully installed numpy-financial-1.0.0\n",
      "Note: you may need to restart the kernel to use updated packages.\n"
     ]
    }
   ],
   "source": [
    "pip install numpy-financial"
   ]
  },
  {
   "cell_type": "code",
   "execution_count": 4,
   "id": "985d192d-d77b-4b10-b166-f58f3aa09cbd",
   "metadata": {},
   "outputs": [],
   "source": []
  },
  {
   "cell_type": "code",
   "execution_count": null,
   "id": "880f2023-5459-4864-a78d-d41518280af8",
   "metadata": {},
   "outputs": [],
   "source": []
  }
 ],
 "metadata": {
  "kernelspec": {
   "display_name": "Python 3 (ipykernel)",
   "language": "python",
   "name": "python3"
  },
  "language_info": {
   "codemirror_mode": {
    "name": "ipython",
    "version": 3
   },
   "file_extension": ".py",
   "mimetype": "text/x-python",
   "name": "python",
   "nbconvert_exporter": "python",
   "pygments_lexer": "ipython3",
   "version": "3.9.12"
  }
 },
 "nbformat": 4,
 "nbformat_minor": 5
}

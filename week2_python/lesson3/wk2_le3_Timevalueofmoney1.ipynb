{
 "cells": [
  {
   "cell_type": "code",
   "execution_count": 5,
   "id": "b9d68663-bcc3-4578-8df6-a3602a7e2482",
   "metadata": {},
   "outputs": [
    {
     "data": {
      "text/plain": [
       "0.5517241379310345"
      ]
     },
     "execution_count": 5,
     "metadata": {},
     "output_type": "execute_result"
    }
   ],
   "source": [
    "def calculate_compound_growth_rate(beginning_balance, ending_balance, years):\n",
    "    growth_rate = ((ending_balance/beginning_balance)**(1/years)) - 1\n",
    "    return growth_rate\n",
    "\n",
    "beginning_balance = 29000.00\n",
    "\n",
    "ending_balance = 45000.00\n",
    "\n",
    "years = 1.0\n",
    "\n",
    "calculate_compound_growth_rate(beginning_balance, ending_balance, years)"
   ]
  },
  {
   "cell_type": "code",
   "execution_count": null,
   "id": "de7c3276-d94c-48a8-bd7c-f9cec4d400fb",
   "metadata": {},
   "outputs": [],
   "source": []
  }
 ],
 "metadata": {
  "kernelspec": {
   "display_name": "Python 3 (ipykernel)",
   "language": "python",
   "name": "python3"
  },
  "language_info": {
   "codemirror_mode": {
    "name": "ipython",
    "version": 3
   },
   "file_extension": ".py",
   "mimetype": "text/x-python",
   "name": "python",
   "nbconvert_exporter": "python",
   "pygments_lexer": "ipython3",
   "version": "3.9.12"
  }
 },
 "nbformat": 4,
 "nbformat_minor": 5
}

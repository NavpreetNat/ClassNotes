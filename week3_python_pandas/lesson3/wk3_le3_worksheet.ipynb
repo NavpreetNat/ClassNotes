{
 "cells": [
  {
   "cell_type": "code",
   "execution_count": 1,
   "id": "44bb60eb-74ee-478d-9cbb-e4a9b88f9614",
   "metadata": {},
   "outputs": [],
   "source": [
    "# Did activity 1 in a seperate sheet, now onto numero 2..."
   ]
  },
  {
   "cell_type": "code",
   "execution_count": null,
   "id": "4f9abcfa-ffa5-4b70-a5a9-2e7c2b2c0d00",
   "metadata": {},
   "outputs": [],
   "source": [
    "# Numero 2 - also in a seperate sheet."
   ]
  }
 ],
 "metadata": {
  "kernelspec": {
   "display_name": "Python 3 (ipykernel)",
   "language": "python",
   "name": "python3"
  },
  "language_info": {
   "codemirror_mode": {
    "name": "ipython",
    "version": 3
   },
   "file_extension": ".py",
   "mimetype": "text/x-python",
   "name": "python",
   "nbconvert_exporter": "python",
   "pygments_lexer": "ipython3",
   "version": "3.9.12"
  }
 },
 "nbformat": 4,
 "nbformat_minor": 5
}
